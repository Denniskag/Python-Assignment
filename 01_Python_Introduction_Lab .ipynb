{
  "cells": [
    {
      "cell_type": "markdown",
      "id": "03c4ee7c-8b1c-4ff8-9638-6e45f4802bb5",
      "metadata": {
        "id": "03c4ee7c-8b1c-4ff8-9638-6e45f4802bb5"
      },
      "source": [
        "### Introduction to Python\n",
        "#### Date: Sep 06,2023\n",
        "#### Submission must be made through Github\n",
        "You are required to complete all tasks correctly (or almost correctly) . You are free to use any material (lecture, Stackoverflow etc.) except full solutions but you should first try to figure them out on your own. We use an nbgrader for partially autograding the assignments. Please DO NOT delete or copy cells. You can add new cells but your solutions should go into the designated cells."
      ]
    },
    {
      "cell_type": "markdown",
      "id": "79ceb440-0a4a-4cfe-92a8-d8d2d410e1e1",
      "metadata": {
        "id": "79ceb440-0a4a-4cfe-92a8-d8d2d410e1e1"
      },
      "source": [
        "`range()` practice"
      ]
    },
    {
      "cell_type": "markdown",
      "id": "a56105d9-2e08-49de-bf42-4ed89f531dca",
      "metadata": {
        "id": "a56105d9-2e08-49de-bf42-4ed89f531dca"
      },
      "source": [
        "1 . Print the numbers between 60 and 69 inclusive."
      ]
    },
    {
      "cell_type": "code",
      "execution_count": 33,
      "id": "9672a3e9-7f15-4956-b6e4-669b03a88cc0",
      "metadata": {
        "colab": {
          "base_uri": "https://localhost:8080/"
        },
        "id": "9672a3e9-7f15-4956-b6e4-669b03a88cc0",
        "outputId": "a1c0dbc0-0969-494c-d051-d14a1e595d49"
      },
      "outputs": [
        {
          "output_type": "stream",
          "name": "stdout",
          "text": [
            "60 61 62 63 64 65 66 67 68 69 "
          ]
        }
      ],
      "source": [
        "for number in range(60,70):\n",
        "  print(number, end = ' ')\n",
        "#raise NotImplementedError()"
      ]
    },
    {
      "cell_type": "markdown",
      "id": "b74e0b6f-b2e2-4b93-a13f-73a3304171d4",
      "metadata": {
        "id": "b74e0b6f-b2e2-4b93-a13f-73a3304171d4"
      },
      "source": [
        "2 . Read numbers until 0 and print their mean and standard deviation without using a list."
      ]
    },
    {
      "cell_type": "code",
      "execution_count": 35,
      "id": "57c6caad-8250-4346-ada9-418b1fb7e5c8",
      "metadata": {
        "colab": {
          "base_uri": "https://localhost:8080/"
        },
        "id": "57c6caad-8250-4346-ada9-418b1fb7e5c8",
        "outputId": "af530900-c3e9-480d-cba3-4f33ecbd49e5"
      },
      "outputs": [
        {
          "output_type": "stream",
          "name": "stdout",
          "text": [
            "Enter a number:1\n",
            "Enter a number:2\n",
            "Enter a number:3\n",
            "Enter a number:4\n",
            "Enter a number:5\n",
            "Enter a number:0\n",
            "Mean:3.0\n",
            "standard Deviation: 1.4142135623730951\n"
          ]
        }
      ],
      "source": [
        "sum_of_squares = 0\n",
        "total = 0\n",
        "counter = 0\n",
        "while(True):\n",
        "  number = int(input('Enter a number:'))\n",
        "  if number == 0:\n",
        "    break\n",
        "\n",
        "  sum_of_squares += (number**2)\n",
        "  total = total + number\n",
        "  counter = counter + 1\n",
        "\n",
        "mean = total/ counter\n",
        "print(\"Mean:\" +str(mean))\n",
        "\n",
        "std= ((sum_of_squares/counter)-mean**2)**(1/2)\n",
        "print(\"standard Deviation: \" + str(std))\n",
        "\n",
        "#raise NotImplementedError()"
      ]
    },
    {
      "cell_type": "markdown",
      "id": "43d383f5-1f59-47fd-99a5-938bf2c2e937",
      "metadata": {
        "id": "43d383f5-1f59-47fd-99a5-938bf2c2e937"
      },
      "source": [
        "##### Lists\n",
        "3 . Print the odd numbers from this list. `l = [2, 3, -2, -7, 0, 2, 3]`"
      ]
    },
    {
      "cell_type": "code",
      "execution_count": 36,
      "id": "8423d0f0-c4a6-4ac0-9100-523c8e8b9dff",
      "metadata": {
        "colab": {
          "base_uri": "https://localhost:8080/"
        },
        "id": "8423d0f0-c4a6-4ac0-9100-523c8e8b9dff",
        "outputId": "775670aa-5fa7-495f-be42-61aad4c066e2"
      },
      "outputs": [
        {
          "output_type": "stream",
          "name": "stdout",
          "text": [
            "3 -7 3 "
          ]
        }
      ],
      "source": [
        "l = [2, 3, -2, -7, 0, 2, 3]\n",
        "for number in l:\n",
        "  if number%2 == 0:\n",
        "    continue\n",
        "  else:\n",
        "    print(number, end = ' ')\n",
        "#raise NotImplementedError()"
      ]
    },
    {
      "cell_type": "markdown",
      "id": "ba8c7678-f149-46fd-a59c-1740c6b31662",
      "metadata": {
        "id": "ba8c7678-f149-46fd-a59c-1740c6b31662"
      },
      "source": [
        "##### Functions\n",
        "4 . Write a function that takes an integer parameter `(N)` and returns a list of the first `N` prime numbers starting from 2."
      ]
    },
    {
      "cell_type": "code",
      "execution_count": 37,
      "id": "c11489ad-16c8-458e-bb07-6269fdc0ac67",
      "metadata": {
        "id": "c11489ad-16c8-458e-bb07-6269fdc0ac67"
      },
      "outputs": [],
      "source": [
        "def is_prime(n):\n",
        "  if n==0 or n==1:\n",
        "    return False\n",
        "\n",
        "  for i in range(2, n):\n",
        "    if n%i==0:\n",
        "      return False\n",
        "  else:\n",
        "      return True\n",
        "\n",
        "\n",
        "def get_n_primes(N):\n",
        "  primes = []\n",
        "  num = 2\n",
        "  while len(primes) < N:\n",
        "    if is_prime(num)== True:\n",
        "      primes.append(num)\n",
        "    num+=1\n",
        "\n",
        "  return primes\n",
        "#raise NotImplementedError()"
      ]
    },
    {
      "cell_type": "code",
      "source": [
        "get_n_primes(3)"
      ],
      "metadata": {
        "colab": {
          "base_uri": "https://localhost:8080/"
        },
        "id": "IR_qMjAIh2Ip",
        "outputId": "0787a05f-d574-4171-9b78-dfde0468048a"
      },
      "id": "IR_qMjAIh2Ip",
      "execution_count": 38,
      "outputs": [
        {
          "output_type": "execute_result",
          "data": {
            "text/plain": [
              "[2, 3, 5]"
            ]
          },
          "metadata": {},
          "execution_count": 38
        }
      ]
    },
    {
      "cell_type": "code",
      "source": [
        "get_n_primes(0)"
      ],
      "metadata": {
        "colab": {
          "base_uri": "https://localhost:8080/"
        },
        "id": "2dILK-oUh-MN",
        "outputId": "1e7cb802-83ac-4eff-ee64-c7fb06fc801c"
      },
      "id": "2dILK-oUh-MN",
      "execution_count": 39,
      "outputs": [
        {
          "output_type": "execute_result",
          "data": {
            "text/plain": [
              "[]"
            ]
          },
          "metadata": {},
          "execution_count": 39
        }
      ]
    },
    {
      "cell_type": "code",
      "execution_count": 40,
      "id": "0349ebb9-189e-437b-a3f0-8ed95de70b67",
      "metadata": {
        "id": "0349ebb9-189e-437b-a3f0-8ed95de70b67"
      },
      "outputs": [],
      "source": [
        "assert(get_n_primes(3) == [2, 3, 5])\n",
        "assert(get_n_primes(0) == [])"
      ]
    },
    {
      "cell_type": "markdown",
      "id": "faa7415c-d5d9-4248-95d2-588b6919c59c",
      "metadata": {
        "id": "faa7415c-d5d9-4248-95d2-588b6919c59c"
      },
      "source": [
        "5. Write a function that takes an integer parameter (N) and returns the Nth Fibonacci number.\n",
        "\n",
        " The Fibonacci series is defined as:\n",
        "\n",
        "$$\n",
        "F_n = F_{n-1} + F_{n-2} \\text{ for } n>1\\\\\n",
        "F_0 = 0\\\\\n",
        "F_1 = 1\n",
        "$$\n",
        "\n",
        "The first few elements of the Fibonacci series are 0, 1, 1, 2, 3, 5, 8, 13 etc.\n",
        "\n",
        "Raise a `ValueError` if $N<0$.\n"
      ]
    },
    {
      "cell_type": "code",
      "execution_count": 41,
      "id": "2cdba1a3-855c-483f-a5b0-eba31d98c186",
      "metadata": {
        "colab": {
          "base_uri": "https://localhost:8080/"
        },
        "id": "2cdba1a3-855c-483f-a5b0-eba31d98c186",
        "outputId": "8704d570-809b-4b12-e0fc-d05bf540df2f"
      },
      "outputs": [
        {
          "output_type": "stream",
          "name": "stdout",
          "text": [
            "<function get_nth_fibonacci at 0x7a1b1b4a77f0>\n"
          ]
        }
      ],
      "source": [
        "def get_nth_fibonacci(n):\n",
        "  if n < 0:\n",
        "    raise ValueError('Enter positive number')\n",
        "  elif n==0:\n",
        "    return (0)\n",
        "  elif n==1:\n",
        "    return 1\n",
        "  elif n ==2:\n",
        "    return 1\n",
        "  else:\n",
        "    return get_nth_fibonacci(n-1)+ get_nth_fibonacci(n-2)\n",
        "\n",
        "\n",
        "print(get_nth_fibonacci)\n",
        "\n",
        "#raise NotImplementedError()"
      ]
    },
    {
      "cell_type": "code",
      "source": [
        "get_nth_fibonacci(0)"
      ],
      "metadata": {
        "colab": {
          "base_uri": "https://localhost:8080/"
        },
        "id": "zQ9RWG7KsfeD",
        "outputId": "4f178d61-81ac-4430-bfd5-a9f17b210e9f"
      },
      "id": "zQ9RWG7KsfeD",
      "execution_count": 42,
      "outputs": [
        {
          "output_type": "execute_result",
          "data": {
            "text/plain": [
              "0"
            ]
          },
          "metadata": {},
          "execution_count": 42
        }
      ]
    },
    {
      "cell_type": "code",
      "execution_count": 43,
      "id": "d6b671a5-1c06-4f25-889e-599d5dedc9ae",
      "metadata": {
        "id": "d6b671a5-1c06-4f25-889e-599d5dedc9ae"
      },
      "outputs": [],
      "source": [
        "assert(get_nth_fibonacci(0) == 0)\n",
        "assert(get_nth_fibonacci(1) == 1)\n",
        "assert(get_nth_fibonacci(2) == 1)\n",
        "assert(get_nth_fibonacci(5) == 5)\n",
        "assert(get_nth_fibonacci(7) == 13)\n",
        "\n",
        "try:\n",
        "    get_nth_fibonacci(-2)\n",
        "except ValueError:\n",
        "    pass\n",
        "else:\n",
        "    AssertionError(\"TEST FAILS. Negative index should raise a ValueError.\")"
      ]
    },
    {
      "cell_type": "markdown",
      "id": "fc2960b4-e2b4-4e98-9284-9acb6e682182",
      "metadata": {
        "id": "fc2960b4-e2b4-4e98-9284-9acb6e682182"
      },
      "source": [
        "6 . Create a function that take a list and a predicate (function with boolean return value) as parameters and returns a new list of those elements which the predicate return True. A predicate is a function that takes one element and return `True` or `False`, for example `is_even`, `is_prime`. If you implemented The following tests should run.\n"
      ]
    },
    {
      "cell_type": "code",
      "execution_count": 44,
      "id": "a5bbd70f-1ba6-4a46-8b14-bc8b82da1a18",
      "metadata": {
        "id": "a5bbd70f-1ba6-4a46-8b14-bc8b82da1a18"
      },
      "outputs": [],
      "source": [
        "# YOUR CODE HERE\n",
        "def is_even(N):\n",
        "    return N % 2 == 0\n",
        "\n",
        "def is_odd(N):\n",
        "  return N % 2!= 0\n",
        "\n",
        "def is_prime(N):\n",
        "  if N==0 or N==1:\n",
        "    return False\n",
        "\n",
        "  for i in range(2, N):\n",
        "    if N%i==0:\n",
        "      return False\n",
        "  else:\n",
        "    return True\n",
        "\n",
        "\n",
        "def filter_list(lst, predicate):\n",
        "  return [N for N in lst if predicate(N)]\n",
        "\n",
        "\n",
        "#raise NotImplementedError()"
      ]
    },
    {
      "cell_type": "code",
      "execution_count": 45,
      "id": "a2622238-54c7-4561-b6e6-52020207940f",
      "metadata": {
        "id": "a2622238-54c7-4561-b6e6-52020207940f"
      },
      "outputs": [],
      "source": [
        "l1 = [1, 2, 3, 4, 19, 35, 11]\n",
        "l2 = [1, 4, 9, 16, 25]\n",
        "assert(filter_list(l1, is_odd) == [1, 3, 19, 35, 11])\n",
        "assert(filter_list(l1, is_prime) == [2, 3, 19, 11])\n",
        "assert(filter_list(l2, is_prime) == [])"
      ]
    },
    {
      "cell_type": "markdown",
      "id": "11b4614e-75b6-4735-bbb3-54899d386014",
      "metadata": {
        "id": "11b4614e-75b6-4735-bbb3-54899d386014"
      },
      "source": [
        "7.  Reduce is a function that applies a two argument function against an accumulator and each element in the sequence (from left to right) to reduce it to a single value. If no initial value is provided, the accumulator is initialized with the return value of the function run on the first two elements of the sequence.\n",
        "\n",
        "```\n",
        "reduce([1, 2, 3], product) ---> 6\n",
        "reduce([1, 2, 3], product, accumulator=10) ---> 60\n",
        "reduce([\"foo\", \"bar\"], string_addition) ---> \"foobar\"\n",
        "reduce([\"foo\", \"bar\"], string_addition, accumulator=\"hello\") ---> \"hellofoobar\"\n",
        "```"
      ]
    },
    {
      "cell_type": "code",
      "execution_count": 11,
      "id": "8101a46d-4eb0-46ee-951d-ad3a32619d84",
      "metadata": {
        "id": "8101a46d-4eb0-46ee-951d-ad3a32619d84",
        "colab": {
          "base_uri": "https://localhost:8080/"
        },
        "outputId": "475c24a2-7847-4f9d-e737-c5ff6b39805d"
      },
      "outputs": [
        {
          "output_type": "execute_result",
          "data": {
            "text/plain": [
              "6"
            ]
          },
          "metadata": {},
          "execution_count": 11
        }
      ],
      "source": [
        "# YOUR CODE HERE\n",
        "import numpy as np\n",
        "\n",
        "def reduce(l1, func, acc=None):\n",
        "  my_array = l1.copy()\n",
        "  if acc != None:\n",
        "    my_array.insert(0, acc)\n",
        "    return func(my_array)\n",
        "  else:\n",
        "    return func(my_array)\n",
        "\n",
        "def product(x):\n",
        "  return np.product(x)\n",
        "\n",
        "def add(x):\n",
        "  return np.sum(x)\n",
        "\n",
        "def string_len_add(x):\n",
        "  length = 0\n",
        "  for item in x:\n",
        "    if isinstance(item, int):\n",
        "      length += item\n",
        "    else:\n",
        "      length += len(item)\n",
        "  return length\n",
        "\n",
        "def count_of_odd_numbers(x):\n",
        "  count= 0\n",
        "  for i in x:\n",
        "    if i%2!= 0:\n",
        "      count += 1\n",
        "  return count\n",
        "\n",
        "\n",
        "def max_number(x):\n",
        "  return np.amax(x)\n",
        "\n",
        "def longest_string(x):\n",
        "    longest = ''\n",
        "    for s in x:\n",
        "        if len(s) > len(longest):\n",
        "            longest = s\n",
        "    return longest\n",
        "\n",
        "\n",
        "\n",
        "reduce([1, 2, 3], product)\n",
        "\n",
        "#raise NotImplementedError()"
      ]
    },
    {
      "cell_type": "code",
      "execution_count": 12,
      "id": "06afdae8-d4b5-4a65-85ab-bd469456caed",
      "metadata": {
        "id": "06afdae8-d4b5-4a65-85ab-bd469456caed"
      },
      "outputs": [],
      "source": [
        "l1 = [1, 2, -1, 5]\n",
        "l2 = [\"foo\", \"bar\", \"hello\"]\n",
        "\n",
        "assert(reduce(l1, add) == 7)\n",
        "assert(reduce(l1, add, 10) == 17)\n",
        "assert(reduce(l2, string_len_add, 0) == 11)"
      ]
    },
    {
      "cell_type": "markdown",
      "id": "d5057830-6794-4d2d-ac06-02b44b852186",
      "metadata": {
        "id": "d5057830-6794-4d2d-ac06-02b44b852186"
      },
      "source": [
        "8. Use your reduce function for the following operations:\n",
        "\n",
        "##### a. count the number of odd elements in a list of integers,\n",
        "##### b. find the maximum of a list of integers,\n",
        "##### c. find the longest string in list of strings.\n",
        "\n",
        "``` Test your solutions. ```"
      ]
    },
    {
      "cell_type": "code",
      "execution_count": 14,
      "id": "dbb28576-5abb-4b90-8e9f-c4bfcaffc3b7",
      "metadata": {
        "id": "dbb28576-5abb-4b90-8e9f-c4bfcaffc3b7",
        "colab": {
          "base_uri": "https://localhost:8080/"
        },
        "outputId": "9cabcc9b-d488-48c4-c074-07d4fabf30d2"
      },
      "outputs": [
        {
          "output_type": "execute_result",
          "data": {
            "text/plain": [
              "3"
            ]
          },
          "metadata": {},
          "execution_count": 14
        }
      ],
      "source": [
        "# a\n",
        "l4 = [3, 2, 11, 6, 19,]\n",
        "reduce(l4, count_of_odd_numbers)\n",
        "\n",
        "#raise NotImplementedError()"
      ]
    },
    {
      "cell_type": "code",
      "execution_count": 15,
      "id": "af799981-375d-4c42-8dc1-83908ed0e8a4",
      "metadata": {
        "id": "af799981-375d-4c42-8dc1-83908ed0e8a4",
        "colab": {
          "base_uri": "https://localhost:8080/"
        },
        "outputId": "84f86c35-5b77-48be-de8d-1b32df7f4427"
      },
      "outputs": [
        {
          "output_type": "execute_result",
          "data": {
            "text/plain": [
              "20"
            ]
          },
          "metadata": {},
          "execution_count": 15
        }
      ],
      "source": [
        "# b\n",
        "l5 = [4, 20, 8, 3, 10]\n",
        "reduce(l5, max_number)\n",
        "#raise NotImplementedError()"
      ]
    },
    {
      "cell_type": "code",
      "source": [
        "# c\n",
        "l6 = [\"Monday\", \"Tuesday\", \"Wednesday\", \"sunday\"]\n",
        "reduce(l6, longest_string)\n",
        "#raise NotImplementedError()"
      ],
      "metadata": {
        "colab": {
          "base_uri": "https://localhost:8080/",
          "height": 35
        },
        "id": "coBzaGv7be1M",
        "outputId": "ddc27763-e40b-4039-fc9e-831b88e9b260"
      },
      "id": "coBzaGv7be1M",
      "execution_count": 16,
      "outputs": [
        {
          "output_type": "execute_result",
          "data": {
            "text/plain": [
              "'Wednesday'"
            ],
            "application/vnd.google.colaboratory.intrinsic+json": {
              "type": "string"
            }
          },
          "metadata": {},
          "execution_count": 16
        }
      ]
    },
    {
      "cell_type": "markdown",
      "id": "3c077854-065c-4c34-9def-93b57b32e9db",
      "metadata": {
        "id": "3c077854-065c-4c34-9def-93b57b32e9db"
      },
      "source": [
        "9. Create a function that takes a matrix of size NxM and returns the pairwise L2 distance of each row pair.\n",
        "\n",
        "For input $A^{N \\times M}$, the output should be $D^{N \\times N}$ where: $D_{i,j} = L_2 (A_i, A_j)$"
      ]
    },
    {
      "cell_type": "code",
      "execution_count": 21,
      "id": "b987aeec-458a-4ae7-b203-59334bdb725e",
      "metadata": {
        "id": "b987aeec-458a-4ae7-b203-59334bdb725e"
      },
      "outputs": [],
      "source": [
        "import numpy as np\n",
        "\n",
        "def pairwise_row_distance(A):\n",
        "    A = np.array(A, dtype=float)\n",
        "    num_rows = A.shape[0]\n",
        "    D = np.zeros((num_rows, num_rows), dtype=float)\n",
        "\n",
        "    for i in range(num_rows):\n",
        "        for j in range(num_rows):\n",
        "            D[i][j] = np.sqrt(np.sum((A[i] - A[j]) ** 2))\n",
        "    return D\n"
      ]
    },
    {
      "cell_type": "code",
      "execution_count": 24,
      "id": "a8a40461-7af8-41f7-96f2-729f69c62ab8",
      "metadata": {
        "id": "a8a40461-7af8-41f7-96f2-729f69c62ab8"
      },
      "outputs": [],
      "source": [
        "D = pairwise_row_distance([[1, 0, 2], [0, 2, 1]])\n",
        "# should be a matrix\n",
        "#assert is_matrix(D) == True\n",
        "assert len(D) == 2\n",
        "assert len(D[0]) == 2\n",
        "assert D[0][0] == 0\n",
        "assert abs(D[0][1] - 2.449489742783178) < 1e-3\n",
        "assert abs(D[1][0] - 2.449489742783178) < 1e-3\n",
        "assert D[1][1] == 0\n",
        "\n",
        "# should be symmetric\n",
        "#assert transpose(D) == D"
      ]
    },
    {
      "cell_type": "markdown",
      "id": "211444ab-c1e5-47cf-86d1-ca72d009b7d1",
      "metadata": {
        "id": "211444ab-c1e5-47cf-86d1-ca72d009b7d1"
      },
      "source": [
        "10 . Object Oriented Programming\n",
        " Define a class named `A` with a 'constructor' that takes a single parameter and stores it in an attribute named `value`. Add a `print_value` method to the class. Instantiate the class and call the `print_value` method."
      ]
    },
    {
      "cell_type": "code",
      "execution_count": 46,
      "id": "86213a2e-3268-45aa-90cc-151c8ef4417f",
      "metadata": {
        "id": "86213a2e-3268-45aa-90cc-151c8ef4417f"
      },
      "outputs": [],
      "source": [
        "class A():\n",
        "  def __init__ (self, value):\n",
        "    self.value = value\n",
        "\n",
        "  def print_value(self):\n",
        "      print(f'{self.value} ')\n",
        "\n",
        "#raise NotImplementedError()"
      ]
    },
    {
      "cell_type": "code",
      "execution_count": 47,
      "id": "70769d9e-d21e-4685-8436-6f4de2b1b798",
      "metadata": {
        "colab": {
          "base_uri": "https://localhost:8080/"
        },
        "id": "70769d9e-d21e-4685-8436-6f4de2b1b798",
        "outputId": "33f373ef-aa93-4fc7-b9cc-cdf96e9ea1dc"
      },
      "outputs": [
        {
          "output_type": "stream",
          "name": "stdout",
          "text": [
            "abc \n"
          ]
        }
      ],
      "source": [
        "a = A(\"abc\")\n",
        "a.print_value()"
      ]
    },
    {
      "cell_type": "markdown",
      "id": "b2c7b287-c0ec-4fba-ba52-69aedfb3f9e5",
      "metadata": {
        "id": "b2c7b287-c0ec-4fba-ba52-69aedfb3f9e5"
      },
      "source": [
        "11.  Define a class named `B`, whose `__init__` takes two parameters and stores one in a public attribute and the other in a private attribute named `this_is_public` and `__this_is_private` respectively. Check the class's ``__dict__``  attribute and find out the mangled name of the private attribute."
      ]
    },
    {
      "cell_type": "code",
      "execution_count": 48,
      "id": "887717c5-b8e6-4e4f-a389-167cc3ad2f90",
      "metadata": {
        "id": "887717c5-b8e6-4e4f-a389-167cc3ad2f90",
        "colab": {
          "base_uri": "https://localhost:8080/"
        },
        "outputId": "530040ad-b84f-4525-f0ee-f36cb67d35a1"
      },
      "outputs": [
        {
          "output_type": "stream",
          "name": "stdout",
          "text": [
            "{'__module__': '__main__', '__init__': <function B.__init__ at 0x7a1b1b4a5bd0>, '__dict__': <attribute '__dict__' of 'B' objects>, '__weakref__': <attribute '__weakref__' of 'B' objects>, '__doc__': None}\n"
          ]
        }
      ],
      "source": [
        "# YOUR CODE HERE\n",
        "class B:\n",
        "    def __init__(self, parameter1, parameter2):\n",
        "        self.this_is_public = parameter1\n",
        "        self.__this_is_private = parameter2\n",
        "\n",
        "\n",
        "print(B.__dict__)\n",
        "#raise NotImplementedError()"
      ]
    },
    {
      "cell_type": "code",
      "source": [
        "b.this_is_public"
      ],
      "metadata": {
        "colab": {
          "base_uri": "https://localhost:8080/"
        },
        "id": "xh7c0mdW8lv3",
        "outputId": "7b944e2b-c86d-445b-bc66-6ab0da3efb40"
      },
      "id": "xh7c0mdW8lv3",
      "execution_count": 51,
      "outputs": [
        {
          "output_type": "execute_result",
          "data": {
            "text/plain": [
              "1"
            ]
          },
          "metadata": {},
          "execution_count": 51
        }
      ]
    },
    {
      "cell_type": "code",
      "execution_count": 49,
      "id": "2890d450-5191-4dd0-91ef-4dc5f84b511c",
      "metadata": {
        "id": "2890d450-5191-4dd0-91ef-4dc5f84b511c",
        "colab": {
          "base_uri": "https://localhost:8080/"
        },
        "outputId": "bddf76aa-b5a0-463c-9241-a03e82c4825b"
      },
      "outputs": [
        {
          "output_type": "stream",
          "name": "stdout",
          "text": [
            "Failed to access private attribute, this is good :)\n"
          ]
        }
      ],
      "source": [
        "b = B(1, 2)\n",
        "assert b.this_is_public == 1\n",
        "try:\n",
        "    b.__this_is_private\n",
        "    print(\"This should not happen.\")\n",
        "except AttributeError:\n",
        "    print(\"Failed to access private attribute, this is good :)\")"
      ]
    },
    {
      "cell_type": "markdown",
      "id": "4197c752-3a45-4e48-a3e3-2fd8a8172387",
      "metadata": {
        "id": "4197c752-3a45-4e48-a3e3-2fd8a8172387"
      },
      "source": [
        "13 . Inheritance\n",
        "\n",
        "###### Guess the output without running the cell."
      ]
    },
    {
      "cell_type": "code",
      "execution_count": 50,
      "id": "2a142442-f03b-438d-bca6-3a2c7c16ab7e",
      "metadata": {
        "id": "2a142442-f03b-438d-bca6-3a2c7c16ab7e",
        "colab": {
          "base_uri": "https://localhost:8080/"
        },
        "outputId": "39b3a171-3043-455d-8d8f-90f71de1fbd6"
      },
      "outputs": [
        {
          "output_type": "stream",
          "name": "stdout",
          "text": [
            "True\n",
            "True\n",
            "False\n",
            "True\n",
            "True\n"
          ]
        }
      ],
      "source": [
        "class A(object): pass\n",
        "class B(A): pass\n",
        "class C(A): pass\n",
        "class D(B): pass\n",
        "\n",
        "a = A()\n",
        "b = B()\n",
        "c = C()\n",
        "d = D()\n",
        "\n",
        "print(isinstance(a, object))\n",
        "print(isinstance(b, object))\n",
        "print(isinstance(a, B))\n",
        "print(isinstance(b, A))\n",
        "print(isinstance(d, A))"
      ]
    },
    {
      "cell_type": "code",
      "execution_count": 51,
      "id": "c637dbb5-1350-4fbd-bf2c-94f4a60d6e5a",
      "metadata": {
        "id": "c637dbb5-1350-4fbd-bf2c-94f4a60d6e5a",
        "colab": {
          "base_uri": "https://localhost:8080/"
        },
        "outputId": "4a6e4ce9-ea15-45c1-fc77-e7476bb275da"
      },
      "outputs": [
        {
          "output_type": "stream",
          "name": "stdout",
          "text": [
            "True\n",
            "True\n",
            "False\n",
            "True\n"
          ]
        }
      ],
      "source": [
        "print(issubclass(C, object))\n",
        "print(issubclass(D, B))\n",
        "print(issubclass(B, D))\n",
        "print(issubclass(B, B))"
      ]
    },
    {
      "cell_type": "markdown",
      "id": "2dc2067d-f15e-424a-b5f1-9782cb8c7ee5",
      "metadata": {
        "id": "2dc2067d-f15e-424a-b5f1-9782cb8c7ee5"
      },
      "source": [
        "#### Create a Cat, a Dog, a Fish and a Eagle class.\n",
        "\n",
        "The animals have the following attributes:\n",
        "\n",
        "1. cats, dogs and eagles can make a sound (this should be a make_sound function that prints the animals sound),\n",
        "2. all animals have an age and a number_of_legs attribute,\n",
        "3. cats and dogs have a fur_color attribute. They can be instantiated with a single color or a list or tuple of colors.\n",
        "\n",
        "Use inheritance and avoid repeating code. Use default values in the constructors."
      ]
    },
    {
      "cell_type": "code",
      "execution_count": 30,
      "id": "58b41d3c-bc66-4e6a-bcc9-345814da6dd5",
      "metadata": {
        "id": "58b41d3c-bc66-4e6a-bcc9-345814da6dd5"
      },
      "outputs": [],
      "source": [
        "class Animal:\n",
        "    def __init__(self,name,age=2,number_of_legs=4):\n",
        "        self.age = age\n",
        "        self.number_of_legs = number_of_legs\n",
        "        self.name = name\n",
        "\n",
        "class Eagle(Animal):\n",
        "    def __init__(self,name,age=1,number_of_legs=2,sound=\"mwoo\"):\n",
        "        self.sound = sound\n",
        "        super().__init__(name,age,number_of_legs)\n",
        "\n",
        "    def make_sound(self):\n",
        "        print(self.sound)\n",
        "\n",
        "class Cat(Eagle):\n",
        "    def __init__(self,name,fur=None,age=3,number_of_legs=4,sound=\"mweo\"):\n",
        "        self.fur = fur\n",
        "        super().__init__(name,age,number_of_legs,sound)\n",
        "\n",
        "class Dog(Cat):\n",
        "    pass\n",
        "\n",
        "class Fish(Animal):\n",
        "    pass\n"
      ]
    },
    {
      "cell_type": "code",
      "execution_count": 31,
      "id": "cf485478-8ccb-4ece-b411-25aeda370733",
      "metadata": {
        "id": "cf485478-8ccb-4ece-b411-25aeda370733"
      },
      "outputs": [],
      "source": [
        "try:\n",
        "    cat = Cat(\"Fluffy\", age=3, fur=\"white\")\n",
        "    dog = Dog(\"Cherry\", age=1, fur=(\"white\", \"brown\", \"black\"))\n",
        "    fish = Fish(\"King\")\n",
        "    eagle = Eagle(\"Bruce\", age=2)\n",
        "    animals = [cat, dog, fish, eagle]\n",
        "except Exception as e:\n",
        "    print(f'Could not initialize an animal: {e}')"
      ]
    },
    {
      "cell_type": "markdown",
      "id": "05cce854-4ec1-4f38-8c59-a6a9d024a147",
      "metadata": {
        "id": "05cce854-4ec1-4f38-8c59-a6a9d024a147"
      },
      "source": [
        "#### Numpy basic exercises\n",
        "\n",
        "Use vectorization and avoid for loops in all exercises. Implement each exercise as a single function.\n",
        "\n",
        "##### Implement standardization for 2D arrays.\n",
        "\n",
        "Standardization is defined as:\n",
        "\n",
        "\\begin{equation*}\n",
        "X_{std} = \\frac{X - \\mu}{\\sigma},\n",
        "\\end{equation*}\n",
        "\n",
        "where $\\mu$ is the mean of each row and $\\rho$ is the standard deviation of each column."
      ]
    },
    {
      "cell_type": "code",
      "execution_count": 32,
      "id": "b0a6e8bb-88de-4598-a7d9-e667d944d41a",
      "metadata": {
        "id": "b0a6e8bb-88de-4598-a7d9-e667d944d41a",
        "colab": {
          "base_uri": "https://localhost:8080/"
        },
        "outputId": "bb11a327-8f2f-4384-93c0-d2a1c33044af"
      },
      "outputs": [
        {
          "output_type": "execute_result",
          "data": {
            "text/plain": [
              "array([[-1.06066017,  1.06066017],\n",
              "       [-1.06066017,  1.06066017],\n",
              "       [-1.06066017,  1.06066017]])"
            ]
          },
          "metadata": {},
          "execution_count": 32
        }
      ],
      "source": [
        "import numpy as np\n",
        "\n",
        "def standardize(matrix):\n",
        "    mean = np.mean(matrix, axis=1)\n",
        "    standard_deviation = np.std(matrix, axis=0)\n",
        "    standard_matrix = (matrix - mean[:, np.newaxis]) / standard_deviation\n",
        "    return standard_matrix\n",
        "\n",
        "X_std = standardize(np.array([[1, 2], [2, 3], [1, 2]]))\n",
        "X_std"
      ]
    },
    {
      "cell_type": "markdown",
      "id": "1b248a73-d899-475b-bac0-a17382dfefab",
      "metadata": {
        "id": "1b248a73-d899-475b-bac0-a17382dfefab"
      },
      "source": [
        "#### Implement normalization for 2D arrays.\n",
        "\n",
        "Normalization is defined as:\n",
        "\n",
        "\\begin{equation*}\n",
        "X_{norm} = \\frac{X - X_{min}}{X_{max} - X_{min}}\n",
        "\\end{equation*}"
      ]
    },
    {
      "cell_type": "code",
      "execution_count": 26,
      "id": "95841093-e7e7-4f28-94b5-a53a554cddfe",
      "metadata": {
        "colab": {
          "base_uri": "https://localhost:8080/"
        },
        "id": "95841093-e7e7-4f28-94b5-a53a554cddfe",
        "outputId": "0c60b699-ead0-4c5b-8ffd-922287cbc233"
      },
      "outputs": [
        {
          "output_type": "stream",
          "name": "stdout",
          "text": [
            "[[ 0  1  2]\n",
            " [ 3  4 -5]]\n"
          ]
        },
        {
          "output_type": "execute_result",
          "data": {
            "text/plain": [
              "array([[0., 0., 1.],\n",
              "       [1., 1., 0.]])"
            ]
          },
          "metadata": {},
          "execution_count": 26
        }
      ],
      "source": [
        "import numpy as np\n",
        "def normalize(X):\n",
        "\n",
        "  X_min = np.min(X, axis =0)\n",
        "  X_max = np.max(X, axis =0)\n",
        "  X_normalized = (X-X_min)/(X_max-X_min)\n",
        "  return (X_normalized)\n",
        "\n",
        "\n",
        "#raise NotImplementedError()\n",
        "\n",
        "X = np.arange(6).reshape(2, 3)\n",
        "X[1, 2] = -5\n",
        "print(X)\n",
        "normalize(X)"
      ]
    },
    {
      "cell_type": "code",
      "execution_count": 27,
      "id": "75fe2509-9e4a-45aa-8f41-e2dd6290d81a",
      "metadata": {
        "id": "75fe2509-9e4a-45aa-8f41-e2dd6290d81a"
      },
      "outputs": [],
      "source": [
        "answer = np.array(\n",
        "    [[0., 0., 1.],\n",
        "     [1., 1., 0.]]\n",
        ")\n",
        "X_norm = normalize(X)\n",
        "assert np.allclose(X_norm, answer)\n"
      ]
    }
  ],
  "metadata": {
    "kernelspec": {
      "display_name": "Python 3 (ipykernel)",
      "language": "python",
      "name": "python3"
    },
    "language_info": {
      "codemirror_mode": {
        "name": "ipython",
        "version": 3
      },
      "file_extension": ".py",
      "mimetype": "text/x-python",
      "name": "python",
      "nbconvert_exporter": "python",
      "pygments_lexer": "ipython3",
      "version": "3.9.13"
    },
    "colab": {
      "provenance": []
    }
  },
  "nbformat": 4,
  "nbformat_minor": 5
}